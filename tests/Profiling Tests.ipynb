{
 "cells": [
  {
   "cell_type": "code",
   "execution_count": 1,
   "metadata": {},
   "outputs": [],
   "source": [
    "import imperial_materials_simulation as ims\n",
    "import line_profiler as lp"
   ]
  },
  {
   "cell_type": "markdown",
   "metadata": {},
   "source": [
    "# Profiling Tests\n",
    "\n",
    "This code shows which lines of the source code take the longest to run.\n",
    "\n",
    "Exact run times vary strongly from machine to machine."
   ]
  },
  {
   "cell_type": "code",
   "execution_count": 2,
   "metadata": {},
   "outputs": [],
   "source": [
    "sim = ims.Simulation(n_atoms=22, starting_temperature=800, microstructure=ims.starting_microstructure)\n",
    "#running quick sims to compile physics backend for more consistent benchmarking\n",
    "sim.NVT_run(n_steps=1_000, temperature=500)\n",
    "sim.MMC_run(n_steps=1_000, temperature=500)"
   ]
  },
  {
   "cell_type": "markdown",
   "metadata": {},
   "source": [
    "### NVT Run"
   ]
  },
  {
   "cell_type": "code",
   "execution_count": 3,
   "metadata": {},
   "outputs": [],
   "source": [
    "profiler = lp.LineProfiler()\n",
    "profiled_func = profiler(sim.NVT_run)\n",
    "profiled_func(n_steps=100_000, temperature=1200, gamma=0.005, integrator='OVRVO')"
   ]
  },
  {
   "cell_type": "code",
   "execution_count": 4,
   "metadata": {},
   "outputs": [
    {
     "name": "stdout",
     "output_type": "stream",
     "text": [
      "Timer unit: 0.001 s\n",
      "\n",
      "Total time: 13.4475 s\n",
      "File: C:\\Users\\Ayham\\Documents\\GitHub Repos\\imperial-materials-simulation\\src\\imperial_materials_simulation\\main.py\n",
      "Function: NVT_run at line 131\n",
      "\n",
      "Line #      Hits         Time  Per Hit   % Time  Line Contents\n",
      "==============================================================\n",
      "   131                                              def NVT_run(self, n_steps: int, temperature: float, gamma: float = 0.005, integrator: str = 'OVRVO'):\n",
      "   132                                                 '''\n",
      "   133                                                 Constant number of atoms, volume, and temperature (NVT) simulation with a Langevin thermostat. Simple\n",
      "   134                                                 model that approximates the physical influence of a solute bath at a given temperature. It adds a drag\n",
      "   135                                                 and random force onto the energy minimization force.\n",
      "   136                                           \n",
      "   137                                                 Parameters\n",
      "   138                                                 ----------\n",
      "   139                                                 n_steps : int\n",
      "   140                                                    Number of NVT steps to perform.\n",
      "   141                                           \n",
      "   142                                                 temperature: float\n",
      "   143                                                    Temperature of simulation. A higher temperature leads to higher solute forces and so velocities. Note\n",
      "   144                                                    the actual temperature of the simulation at each step (dictated by atom velocities) may vary slightly.\n",
      "   145                                                    \n",
      "   146                                                 gamma: float\n",
      "   147                                                    Solvent interaction strength. Higher values lead to higher solute drag and random solute forces. 0 is\n",
      "   148                                                    no solvent, 0.001 is weak interaction, 0.005 is medium interaction, and 0.1 is strong interaction\n",
      "   149                                           \n",
      "   150                                                 integrator: str\n",
      "   151                                                    How forces are intergrated over time. Either 'OVRVO' or 'Verlet'. Verlet is a well established \n",
      "   152                                                    deterministic integrator that can be used to update positions and velocites after discrete timesteps.\n",
      "   153                                                    OVRO (See https://doi.org/10.1021/jp411770f) is a stochastic generalisation of Verlet that satisfies\n",
      "   154                                                    more of the criteria of an ideal integrator. \n",
      "   155                                                 '''\n",
      "   156         1          0.0      0.0      0.0        assert integrator in ('OVRVO', 'Verlet'), f'{integrator} integrator not supported'\n",
      "   157         1          0.0      0.0      0.0        self.run += 1\n",
      "   158         1          0.4      0.4      0.0        self.microstructures.append({0: pd.DataFrame(self.positions, columns=['x', 'y', 'z'])})\n",
      "   159         1          0.0      0.0      0.0        step_data = []\n",
      "   160                                              \n",
      "   161         1          0.0      0.0      0.0        self.target_kT = temperature * self.kB\n",
      "   162         1          0.0      0.0      0.0        self.velocity_sigma = np.sqrt(self.target_kT/self.mass) #variance of Boltzmann distrubution velocities\n",
      "   163                                           \n",
      "   164         1          0.0      0.0      0.0        F_b, PE_b = physics.get_bonding_interactions(self.positions, self.bond_length, self.spring_constant)\n",
      "   165         1          0.1      0.1      0.0        F_nb, PE_nb = physics.get_non_bonding_interactions(self.positions, self.epsilon, self.sigma)\n",
      "   166         1          0.0      0.0      0.0        a = np.exp(-gamma / (self.time_step*2)) #OVRVO constant\n",
      "   167         1          0.0      0.0      0.0        b = np.sqrt(1 - a**2) #OVRVO constant\n",
      "   168    100001         36.7      0.0      0.3        for step in range(n_steps):\n",
      "   169    100000         33.9      0.0      0.3           if integrator == 'OVRVO':\n",
      "   170    100000        752.3      0.0      5.6              self.velocities = self.velocities*a + rand.standard_normal((self.n_atoms, 3))*self.velocity_sigma*b\n",
      "   171    100000        395.5      0.0      2.9              self.velocities += (F_b + F_nb)*self.time_step / (2*self.mass)\n",
      "   172    100000        499.8      0.0      3.7              self.positions += self.velocities*self.time_step\n",
      "   173    100000        790.1      0.0      5.9              F_b, PE_b = physics.get_bonding_interactions(self.positions, self.bond_length, self.spring_constant)\n",
      "   174    100000       4557.4      0.0     33.9              F_nb, PE_nb = physics.get_non_bonding_interactions(self.positions, self.epsilon, self.sigma)\n",
      "   175    100000        492.8      0.0      3.7              self.velocities += (F_b + F_nb)*self.time_step / (2*self.mass)\n",
      "   176    100000        704.1      0.0      5.2              self.velocities = self.velocities*a + rand.standard_normal((self.n_atoms, 3))*self.velocity_sigma*b\n",
      "   177                                                    elif integrator == 'Verlet':\n",
      "   178                                                       self.velocities += (F_b + F_nb)*self.time_step / (2*self.mass)\n",
      "   179                                                       self.positions += self.velocities*self.time_step\n",
      "   180                                                       F_b, PE_b = physics.get_bonding_interactions(self.positions, self.bond_length, self.spring_constant)\n",
      "   181                                                       F_nb, PE_nb = physics.get_non_bonding_interactions(self.positions, self.epsilon, self.sigma)\n",
      "   182                                                       self.velocities += (F_b + F_nb)*self.time_step / (2*self.mass)\n",
      "   183                                           \n",
      "   184    100000        145.1      0.0      1.1           KE_total = physics.get_kintetic_energy(self.velocities, self.mass)\n",
      "   185    100000        191.3      0.0      1.4           T_actual = physics.get_temperature(KE_total, self.n_atoms)\n",
      "   186    200000        117.0      0.0      0.9           step_data.append({\n",
      "   187    100000         22.7      0.0      0.2              'step': step,\n",
      "   188    100000         22.8      0.0      0.2              'T_actual': T_actual,\n",
      "   189    100000         32.9      0.0      0.2              'PE_total': PE_b + PE_nb,\n",
      "   190    100000         21.3      0.0      0.2              'KE_total': KE_total,\n",
      "   191    100000       2336.5      0.0     17.4              'F_rms': np.mean((F_b + F_nb)**2) ** 0.5,\n",
      "   192    100000       1435.7      0.0     10.7              'L_end_to_end': np.sum((self.positions[0] - self.positions[-1]) ** 2) ** 0.5,\n",
      "   193                                                    })\n",
      "   194    100000        677.0      0.0      5.0           self._logging_step(step, step_data, run_type='NVT', n_steps=n_steps, temperature=temperature)\n",
      "   195                                                 \n",
      "   196         1        179.6    179.6      1.3        self.step_data[self.run] = pd.DataFrame(step_data)\n",
      "   197         1          2.5      2.5      0.0        self._log_run_data(run_type='NVT', n_steps=n_steps, temperature=temperature)\n",
      "   198         1          0.0      0.0      0.0        if self.is_being_displayed: self.dashboard.reset(self)\n",
      "\n"
     ]
    }
   ],
   "source": [
    "profiler.print_stats(output_unit=1e-3) #ms times displayed"
   ]
  },
  {
   "cell_type": "markdown",
   "metadata": {},
   "source": [
    "### Relax Run"
   ]
  },
  {
   "cell_type": "code",
   "execution_count": 5,
   "metadata": {},
   "outputs": [],
   "source": [
    "profiler = lp.LineProfiler()\n",
    "profiled_func = profiler(sim.relax_run)\n",
    "profiled_func(n_steps=100_000, step_size=0.03)"
   ]
  },
  {
   "cell_type": "code",
   "execution_count": 6,
   "metadata": {},
   "outputs": [
    {
     "name": "stdout",
     "output_type": "stream",
     "text": [
      "Timer unit: 0.001 s\n",
      "\n",
      "Total time: 10.987 s\n",
      "File: C:\\Users\\Ayham\\Documents\\GitHub Repos\\imperial-materials-simulation\\src\\imperial_materials_simulation\\main.py\n",
      "Function: relax_run at line 93\n",
      "\n",
      "Line #      Hits         Time  Per Hit   % Time  Line Contents\n",
      "==============================================================\n",
      "    93                                              def relax_run(self, n_steps: int, step_size: float = 0.01) -> None:\n",
      "    94                                                 '''\n",
      "    95                                                 Structural relaxation through steepest descent energy minimisation. This is a non-physical simulation\n",
      "    96                                                 where the molecule is modelled as not experiencing any thermal forces. Each atom moves in the direction\n",
      "    97                                                 that minimizes is potential energy the most, which is the net (bonding + non-bonding) force vector. \n",
      "    98                                           \n",
      "    99                                                 Parameters\n",
      "   100                                                 ----------\n",
      "   101                                                 n_steps : int\n",
      "   102                                                    Number of steps of steepest descent energy minimisation.\n",
      "   103                                           \n",
      "   104                                                 step_size: float\n",
      "   105                                                    How far each atom should move with each step. The total movement vector is the relax_step_size * force\n",
      "   106                                                    vector. 0.01 is a good starting point, but could be ~3x larger for first few steps and ~10x smaller\n",
      "   107                                                    for the last few steps. Values larger than 0.03 risks creating force values too high to store as steps\n",
      "   108                                                    become unrealistically large.\n",
      "   109                                                 '''\n",
      "   110         1          0.0      0.0      0.0        self.run += 1\n",
      "   111         1          0.3      0.3      0.0        self.microstructures.append({0: pd.DataFrame(self.positions, columns=['x', 'y', 'z'])})\n",
      "   112         1          0.0      0.0      0.0        step_data = []\n",
      "   113    100001         37.2      0.0      0.3        for step in range(n_steps):\n",
      "   114    100000        760.0      0.0      6.9           F_b, PE_b = physics.get_bonding_interactions(self.positions, self.bond_length, self.spring_constant)\n",
      "   115    100000       4649.1      0.0     42.3           F_nb, PE_nb = physics.get_non_bonding_interactions(self.positions, self.epsilon, self.sigma)\n",
      "   116    100000        736.4      0.0      6.7           self.positions += (F_nb + F_b) * step_size\n",
      "   117    200000        121.7      0.0      1.1           step_data.append({\n",
      "   118    100000         24.9      0.0      0.2              'step': step,\n",
      "   119    100000         23.4      0.0      0.2              'PE_bonding': PE_b,\n",
      "   120    100000         23.3      0.0      0.2              'PE_non_bonding': PE_nb,\n",
      "   121    100000         36.2      0.0      0.3              'PE_total': PE_b + PE_nb,\n",
      "   122    100000       2326.3      0.0     21.2              'F_rms': np.mean((F_b + F_nb)**2) ** 0.5,\n",
      "   123    100000       1461.9      0.0     13.3              'L_end_to_end': np.sum((self.positions[0] - self.positions[-1]) ** 2) ** 0.5,\n",
      "   124                                                    })\n",
      "   125    100000        597.9      0.0      5.4           self._logging_step(step, step_data, run_type='relax', n_steps=n_steps, temperature=0.0)\n",
      "   126                                           \n",
      "   127         1        186.3    186.3      1.7        self.step_data[self.run] = pd.DataFrame(step_data)\n",
      "   128         1          2.1      2.1      0.0        self._log_run_data(run_type='relax', n_steps=n_steps, temperature=0.0)\n",
      "   129         1          0.0      0.0      0.0        if self.is_being_displayed: self.dashboard.reset(self)\n",
      "\n"
     ]
    }
   ],
   "source": [
    "profiler.print_stats(output_unit=1e-3) #ms times displayed"
   ]
  },
  {
   "cell_type": "markdown",
   "metadata": {},
   "source": [
    "### MMC Run"
   ]
  },
  {
   "cell_type": "code",
   "execution_count": 7,
   "metadata": {},
   "outputs": [],
   "source": [
    "profiler = lp.LineProfiler()\n",
    "profiled_func = profiler(sim.MMC_run)\n",
    "profiled_func(n_steps=200_000, temperature=800, random_scale=0.1)"
   ]
  },
  {
   "cell_type": "code",
   "execution_count": 8,
   "metadata": {},
   "outputs": [
    {
     "name": "stdout",
     "output_type": "stream",
     "text": [
      "Timer unit: 0.001 s\n",
      "\n",
      "Total time: 9.64366 s\n",
      "File: C:\\Users\\Ayham\\Documents\\GitHub Repos\\imperial-materials-simulation\\src\\imperial_materials_simulation\\main.py\n",
      "Function: MMC_run at line 273\n",
      "\n",
      "Line #      Hits         Time  Per Hit   % Time  Line Contents\n",
      "==============================================================\n",
      "   273                                              def MMC_run(self, n_steps: int, temperature: float, random_scale: float = 0.05):\n",
      "   274                                                 '''\n",
      "   275                                                 Metropolis Monte Carlo (MMC) Simulation. Randomly displaces atoms by a small amount and accepts the new\n",
      "   276                                                 structure if it reduces total potential energy or has a chance of accepting the new structure ∝ exp(-ΔPE)\n",
      "   277                                                 if it increases total potential energy. Un-physical but useful for sampling a variety of fairly low energy\n",
      "   278                                                 microstructures for thermodynamic property prediction. \n",
      "   279                                           \n",
      "   280                                                 Parameters\n",
      "   281                                                 ----------\n",
      "   282                                                 n_steps : int\n",
      "   283                                                    Number of MMC steps to perform.\n",
      "   284                                           \n",
      "   285                                                 temperature: float\n",
      "   286                                                    Temperature of simulation. A higher temperature means higher thermal energy, increasing tha chance\n",
      "   287                                                    of an atom moving to a new random position.\n",
      "   288                                           \n",
      "   289                                                 random_scale: float \n",
      "   290                                                    Size limit of random displacement at each step. Will be +/- bond_length * random_scale / 2 in each direction.\n",
      "   291                                                 '''\n",
      "   292         1          0.0      0.0      0.0        self.run += 1\n",
      "   293         1          0.3      0.3      0.0        self.microstructures.append({0: pd.DataFrame(self.positions, columns=['x', 'y', 'z'])})\n",
      "   294         1          0.0      0.0      0.0        step_data = []\n",
      "   295                                           \n",
      "   296         1          0.0      0.0      0.0        self.target_kT = temperature * self.kB\n",
      "   297         1          0.0      0.0      0.0        self.velocity_sigma = np.sqrt(self.target_kT/self.mass) #variance of Boltzmann distrubution velocities\n",
      "   298                                           \n",
      "   299         2          0.2      0.1      0.0        energy_tracker = physics.PotentialEnergyTracker(self.positions, self.epsilon, self.sigma,\n",
      "   300         1          0.0      0.0      0.0                                                      self.bond_length, self.spring_constant)\n",
      "   301         1          0.1      0.1      0.0        PE = energy_tracker.get_total_potential_energy()\n",
      "   302         1          0.0      0.0      0.0        max_displacement_size = self.bond_length * random_scale\n",
      "   303         1          2.4      2.4      0.0        atom_indexes = rand.randint(low=0, high=self.n_atoms-1, size=n_steps)\n",
      "   304         1          4.6      4.6      0.0        displacements = rand.uniform(low=-max_displacement_size/2, high=max_displacement_size/2, size=(n_steps, 3))\n",
      "   305    200001         70.5      0.0      0.7        for step in range(n_steps):\n",
      "   306    200000         49.4      0.0      0.5           is_displacement_accepted = False\n",
      "   307    200000       3060.9      0.0     31.7           PE_change = energy_tracker.test_displacement(atom_indexes[step], displacements[step])\n",
      "   308    200000        842.2      0.0      8.7           if PE_change < 0 or np.exp(-PE_change / self.target_kT) > rand.uniform(low=0, high=1):\n",
      "   309    136576         39.1      0.0      0.4              is_displacement_accepted = True\n",
      "   310    136576        278.4      0.0      2.9              energy_tracker.accept_last_displacement()\n",
      "   311    136576         52.0      0.0      0.5              PE += PE_change\n",
      "   312    136576        391.5      0.0      4.1              self.positions[atom_indexes[step]] += displacements[step]\n",
      "   313                                                    \n",
      "   314    400000        224.8      0.0      2.3           step_data.append({\n",
      "   315    200000         47.4      0.0      0.5              'step': step,\n",
      "   316    200000         44.9      0.0      0.5              'displacement_accepted': is_displacement_accepted,\n",
      "   317    200000         46.0      0.0      0.5              'PE_total': PE,\n",
      "   318    200000       3021.2      0.0     31.3              'L_end_to_end': np.sum((self.positions[0] - self.positions[-1]) ** 2) ** 0.5,\n",
      "   319                                                    })\n",
      "   320    200000       1139.0      0.0     11.8           self._logging_step(step, step_data, run_type='MMC', n_steps=n_steps, temperature=temperature)\n",
      "   321                                                 \n",
      "   322         1        326.6    326.6      3.4        self.step_data[self.run] = pd.DataFrame(step_data)\n",
      "   323         1          2.4      2.4      0.0        self._log_run_data(run_type='MMC', n_steps=n_steps, temperature=temperature)\n",
      "   324         1          0.0      0.0      0.0        if self.is_being_displayed: self.dashboard.reset(self)\n",
      "\n"
     ]
    }
   ],
   "source": [
    "profiler.print_stats(output_unit=1e-3) #ms times displayed"
   ]
  },
  {
   "cell_type": "markdown",
   "metadata": {},
   "source": [
    "### NVE Run"
   ]
  },
  {
   "cell_type": "code",
   "execution_count": 9,
   "metadata": {},
   "outputs": [],
   "source": [
    "profiler = lp.LineProfiler()\n",
    "profiled_func = profiler(sim.NVE_run)\n",
    "profiled_func(n_steps=100_000, temperature=600, gamma=0.005, integrator='Verlet')"
   ]
  },
  {
   "cell_type": "code",
   "execution_count": 10,
   "metadata": {},
   "outputs": [
    {
     "name": "stdout",
     "output_type": "stream",
     "text": [
      "Timer unit: 0.001 s\n",
      "\n",
      "Total time: 12.2413 s\n",
      "File: C:\\Users\\Ayham\\Documents\\GitHub Repos\\imperial-materials-simulation\\src\\imperial_materials_simulation\\main.py\n",
      "Function: NVE_run at line 200\n",
      "\n",
      "Line #      Hits         Time  Per Hit   % Time  Line Contents\n",
      "==============================================================\n",
      "   200                                              def NVE_run(self, n_steps: int, temperature: float = None, gamma: float = 0.005, integrator: str = 'OVRVO'):\n",
      "   201                                                 '''\n",
      "   202                                                 Constant number of atoms, volume, and energy (NVE) simulation. Used for modelling molecules in the\n",
      "   203                                                 gas phase or finding an acceptable simulation timestep. Larger timesteps speed up the simulation\n",
      "   204                                                 but will eventually break conservation of energy if too large. https://doi.org/10.1021/jp411770f\n",
      "   205                                                 details different techniques for integrating the simulation forces over time.\n",
      "   206                                           \n",
      "   207                                                 Parameters\n",
      "   208                                                 ----------\n",
      "   209                                                 n_steps : int\n",
      "   210                                                    Number of NVE steps to perform.\n",
      "   211                                           \n",
      "   212                                                 temperature: float\n",
      "   213                                                    If given, resets the atom velocities to follow a boltzmann distribtuion at the\n",
      "   214                                                    new tempearture. Should be given if this run is not preceded by an NVT run at\n",
      "   215                                                    the desired temperature.\n",
      "   216                                           \n",
      "   217                                                 gamma: float\n",
      "   218                                                    Solvent interaction strength. Higher values lead to higher solute drag and random solute forces. 0 is\n",
      "   219                                                    no solvent, 0.001 is weak interaction, 0.005 is medium interaction, and 0.1 is strong interaction\n",
      "   220                                           \n",
      "   221                                                 integrator: str\n",
      "   222                                                    How forces are intergrated over time. Either 'OVRVO' or 'Verlet'. Verlet is a well established \n",
      "   223                                                    deterministic integrator that can be used to update positions and velocites after discrete timesteps.\n",
      "   224                                                    OVRO (See https://doi.org/10.1021/jp411770f) is a stochastic generalisation of Verlet that satisfies\n",
      "   225                                                    more of the criteria of an ideal integrator. \n",
      "   226                                                 '''\n",
      "   227         1          0.0      0.0      0.0        assert integrator in ['OVRVO', 'Verlet'], f'integrator {integrator} not supported'\n",
      "   228         1          0.0      0.0      0.0        self.run += 1\n",
      "   229         1          0.3      0.3      0.0        self.microstructures.append({0: pd.DataFrame(self.positions, columns=['x', 'y', 'z'])})\n",
      "   230         1          0.0      0.0      0.0        step_data = []\n",
      "   231                                           \n",
      "   232         1          0.0      0.0      0.0        if temperature is None:\n",
      "   233                                                    temperature = self.run_data.loc[self.run_data['run'] == (self.run-1), 'T'].values[0] #previous temperature\n",
      "   234                                                 else:\n",
      "   235         1          0.0      0.0      0.0           self.target_kT = temperature * self.kB\n",
      "   236         1          0.0      0.0      0.0           self.velocity_sigma = np.sqrt(self.target_kT/self.mass) #variance of Boltzmann distrubution velocities\n",
      "   237         1          0.0      0.0      0.0           self.velocities = rand.normal(loc=0.0, scale=self.velocity_sigma, size=(self.n_atoms, 3))\n",
      "   238                                                 \n",
      "   239         1          0.0      0.0      0.0        F_b, PE_b = physics.get_bonding_interactions(self.positions, self.bond_length, self.spring_constant)\n",
      "   240         1          0.1      0.1      0.0        F_nb, PE_nb = physics.get_non_bonding_interactions(self.positions, self.epsilon, self.sigma)\n",
      "   241         1          0.0      0.0      0.0        a = np.exp(-gamma / (self.time_step*2)) #OVRVO constant\n",
      "   242         1          0.0      0.0      0.0        b = np.sqrt(1 - a**2) #OVRVO constant\n",
      "   243    100001         38.1      0.0      0.3        for step in range(n_steps):\n",
      "   244    100000         38.3      0.0      0.3           if integrator == 'OVRVO':\n",
      "   245                                                       self.velocities = self.velocities*a + rand.standard_normal((self.n_atoms, 3))*self.velocity_sigma*b\n",
      "   246                                                       self.velocities += (F_b + F_nb)*self.time_step / (2*self.mass)\n",
      "   247                                                       self.positions += self.velocities*self.time_step\n",
      "   248                                                       F_b, PE_b = physics.get_bonding_interactions(self.positions, self.bond_length, self.spring_constant)\n",
      "   249                                                       F_nb, PE_nb = physics.get_non_bonding_interactions(self.positions, self.epsilon, self.sigma)\n",
      "   250                                                       self.velocities += (F_b + F_nb)*self.time_step / (2*self.mass)\n",
      "   251                                                       self.velocities = self.velocities*a + rand.standard_normal((self.n_atoms, 3))*self.velocity_sigma*b\n",
      "   252    100000         31.1      0.0      0.3           elif integrator == 'Verlet':\n",
      "   253    100000        471.5      0.0      3.9              self.velocities += (F_b + F_nb)*self.time_step / (2*self.mass)\n",
      "   254    100000        517.8      0.0      4.2              self.positions += self.velocities*self.time_step\n",
      "   255    100000        818.3      0.0      6.7              F_b, PE_b = physics.get_bonding_interactions(self.positions, self.bond_length, self.spring_constant)\n",
      "   256    100000       4785.1      0.0     39.1              F_nb, PE_nb = physics.get_non_bonding_interactions(self.positions, self.epsilon, self.sigma)\n",
      "   257    100000        506.3      0.0      4.1              self.velocities += (F_b + F_nb)*self.time_step / (2*self.mass)\n",
      "   258                                           \n",
      "   259    100000        147.7      0.0      1.2           KE_total = physics.get_kintetic_energy(self.velocities, self.mass)\n",
      "   260    200000        115.9      0.0      0.9           step_data.append({\n",
      "   261    100000         23.9      0.0      0.2              'step': step,\n",
      "   262    100000         35.3      0.0      0.3              'PE_total': PE_b + PE_nb,\n",
      "   263    100000         26.9      0.0      0.2              'KE_total': KE_total,\n",
      "   264    100000       2383.3      0.0     19.5              'F_rms': np.mean((F_b + F_nb)**2) ** 0.5,\n",
      "   265    100000       1501.1      0.0     12.3              'L_end_to_end': np.sum((self.positions[0] - self.positions[-1]) ** 2) ** 0.5,\n",
      "   266                                                    })\n",
      "   267    100000        617.1      0.0      5.0           self._logging_step(step, step_data, run_type='NVE', n_steps=n_steps, temperature=temperature)\n",
      "   268                                                 \n",
      "   269         1        181.0    181.0      1.5        self.step_data[self.run] = pd.DataFrame(step_data)\n",
      "   270         1          2.3      2.3      0.0        self._log_run_data(run_type='NVE', n_steps=n_steps, temperature=temperature)\n",
      "   271         1          0.0      0.0      0.0        if self.is_being_displayed: self.dashboard.reset(self)\n",
      "\n"
     ]
    }
   ],
   "source": [
    "profiler.print_stats(output_unit=1e-3) #ms times displayed"
   ]
  }
 ],
 "metadata": {
  "kernelspec": {
   "display_name": ".venv",
   "language": "python",
   "name": "python3"
  },
  "language_info": {
   "codemirror_mode": {
    "name": "ipython",
    "version": 3
   },
   "file_extension": ".py",
   "mimetype": "text/x-python",
   "name": "python",
   "nbconvert_exporter": "python",
   "pygments_lexer": "ipython3",
   "version": "3.11.11"
  }
 },
 "nbformat": 4,
 "nbformat_minor": 2
}
